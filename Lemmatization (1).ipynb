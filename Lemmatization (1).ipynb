{
  "nbformat": 4,
  "nbformat_minor": 0,
  "metadata": {
    "colab": {
      "provenance": []
    },
    "kernelspec": {
      "name": "python3",
      "display_name": "Python 3"
    }
  },
  "cells": [
    {
      "cell_type": "code",
      "metadata": {
        "id": "uROUhD6qDkcs",
        "colab": {
          "base_uri": "https://localhost:8080/"
        },
        "outputId": "8c1c1802-c08b-4141-b2b6-ffd29ed02d44"
      },
      "source": [
        "import spacy\n",
        "nlp = spacy.load('en_core_web_sm')\n",
        "doc2 = nlp(u\"We're here to help! Send snail-mail, email teachtanwar03@gmail.com !\")\n",
        "for t in doc2:\n",
        "    print(t)"
      ],
      "execution_count": 2,
      "outputs": [
        {
          "output_type": "stream",
          "name": "stdout",
          "text": [
            "We\n",
            "'re\n",
            "here\n",
            "to\n",
            "help\n",
            "!\n",
            "Send\n",
            "snail\n",
            "-\n",
            "mail\n",
            ",\n",
            "email\n",
            "teachtanwar03@gmail.com\n",
            "!\n"
          ]
        }
      ]
    },
    {
      "cell_type": "code",
      "metadata": {
        "id": "T9SuBFxJD60t",
        "colab": {
          "base_uri": "https://localhost:8080/"
        },
        "outputId": "56139b7c-51b3-40b4-c597-76e31ebb4ffc"
      },
      "source": [
        "doc3 = nlp(u'A 5km NYC cab ride costs $10.30')\n",
        "for t in doc3:\n",
        "    print(t)"
      ],
      "execution_count": 3,
      "outputs": [
        {
          "output_type": "stream",
          "name": "stdout",
          "text": [
            "A\n",
            "5\n",
            "km\n",
            "NYC\n",
            "cab\n",
            "ride\n",
            "costs\n",
            "$\n",
            "10.30\n"
          ]
        }
      ]
    },
    {
      "cell_type": "code",
      "metadata": {
        "id": "W954E2p7EA06",
        "colab": {
          "base_uri": "https://localhost:8080/"
        },
        "outputId": "10ce9b1e-e2ed-47fc-cb17-4bc57176df20"
      },
      "source": [
        "doc4 = nlp(u\"Let's visit St. Louis in the U.S. next year.\")\n",
        "for t in doc4:\n",
        "    print(t)"
      ],
      "execution_count": 4,
      "outputs": [
        {
          "output_type": "stream",
          "name": "stdout",
          "text": [
            "Let\n",
            "'s\n",
            "visit\n",
            "St.\n",
            "Louis\n",
            "in\n",
            "the\n",
            "U.S.\n",
            "next\n",
            "year\n",
            ".\n"
          ]
        }
      ]
    },
    {
      "cell_type": "code",
      "metadata": {
        "id": "MnVieHC_EBd6"
      },
      "source": [
        " # ----   Porter Stemmer   ------"
      ],
      "execution_count": null,
      "outputs": []
    },
    {
      "cell_type": "code",
      "metadata": {
        "id": "32eUb4IHIxg-"
      },
      "source": [
        "# Import the toolkit and the full Porter Stemmer library\n",
        "import nltk\n",
        "from nltk.stem.porter import *"
      ],
      "execution_count": 5,
      "outputs": []
    },
    {
      "cell_type": "code",
      "metadata": {
        "id": "Mqz3RhM5Ix9p"
      },
      "source": [
        "p_stemmer = PorterStemmer()\n",
        "words = ['run','runner','running','ran','runs','easily','fairly']"
      ],
      "execution_count": 6,
      "outputs": []
    },
    {
      "cell_type": "code",
      "metadata": {
        "id": "3BtJibwLI1Ca",
        "colab": {
          "base_uri": "https://localhost:8080/"
        },
        "outputId": "c409b931-2808-47b2-cd52-67bfab1955d0"
      },
      "source": [
        "for word in words:\n",
        "    print(word+' --> '+p_stemmer.stem(word))"
      ],
      "execution_count": 7,
      "outputs": [
        {
          "output_type": "stream",
          "name": "stdout",
          "text": [
            "run --> run\n",
            "runner --> runner\n",
            "running --> run\n",
            "ran --> ran\n",
            "runs --> run\n",
            "easily --> easili\n",
            "fairly --> fairli\n"
          ]
        }
      ]
    },
    {
      "cell_type": "code",
      "metadata": {
        "id": "1YgYkshwI2jo"
      },
      "source": [
        "#SnowballStemmer\n",
        "from nltk.stem.snowball import SnowballStemmer\n",
        "# The Snowball Stemmer requires that you pass a language parameter\n",
        "s_stemmer = SnowballStemmer(language='english')"
      ],
      "execution_count": 8,
      "outputs": []
    },
    {
      "cell_type": "code",
      "metadata": {
        "id": "kDERoxYEI9R4"
      },
      "source": [
        "words = ['run','runner','running','ran','runs','easily','fairly']\n",
        "# words = ['generous','generation','generously','generate']"
      ],
      "execution_count": 9,
      "outputs": []
    },
    {
      "cell_type": "code",
      "metadata": {
        "id": "4M0epwwkI-yo",
        "colab": {
          "base_uri": "https://localhost:8080/"
        },
        "outputId": "a6ff503f-ba4a-4078-b911-bb266b00e5f5"
      },
      "source": [
        "for word in words:\n",
        "    print(word+' --> '+s_stemmer.stem(word))"
      ],
      "execution_count": 10,
      "outputs": [
        {
          "output_type": "stream",
          "name": "stdout",
          "text": [
            "run --> run\n",
            "runner --> runner\n",
            "running --> run\n",
            "ran --> ran\n",
            "runs --> run\n",
            "easily --> easili\n",
            "fairly --> fair\n"
          ]
        }
      ]
    },
    {
      "cell_type": "code",
      "metadata": {
        "id": "HAhZxPlwJALZ"
      },
      "source": [
        "# ----Do Some more practice -----"
      ],
      "execution_count": 11,
      "outputs": []
    },
    {
      "cell_type": "code",
      "metadata": {
        "id": "pjnfD_FOJSx5"
      },
      "source": [
        "words = ['consolingly']"
      ],
      "execution_count": 12,
      "outputs": []
    },
    {
      "cell_type": "code",
      "metadata": {
        "id": "WznSJQT6JUa6",
        "colab": {
          "base_uri": "https://localhost:8080/"
        },
        "outputId": "754bf6df-8a51-40d7-a3cf-24e2e42c0b43"
      },
      "source": [
        "print('Porter Stemmer:')\n",
        "for word in words:\n",
        "    print(word+' --> '+p_stemmer.stem(word))"
      ],
      "execution_count": 13,
      "outputs": [
        {
          "output_type": "stream",
          "name": "stdout",
          "text": [
            "Porter Stemmer:\n",
            "consolingly --> consolingli\n"
          ]
        }
      ]
    },
    {
      "cell_type": "code",
      "metadata": {
        "id": "kRWOhSIkJVvZ",
        "colab": {
          "base_uri": "https://localhost:8080/"
        },
        "outputId": "e9435a1a-311e-4a5a-f082-a0d7943221fe"
      },
      "source": [
        "print('Porter2 Stemmer:')\n",
        "for word in words:\n",
        "    print(word+' --> '+s_stemmer.stem(word))"
      ],
      "execution_count": 14,
      "outputs": [
        {
          "output_type": "stream",
          "name": "stdout",
          "text": [
            "Porter2 Stemmer:\n",
            "consolingly --> consol\n"
          ]
        }
      ]
    },
    {
      "cell_type": "code",
      "metadata": {
        "id": "CHjOtYJcJXLp",
        "colab": {
          "base_uri": "https://localhost:8080/"
        },
        "outputId": "73d8151c-6186-4882-8351-b2d2f785c52d"
      },
      "source": [
        "# Stemming has its drawbacks. If given the token saw, stemming might always return saw, whereas lemmatization would likely return either\n",
        "# see or saw depending on whether the use of the token was as a verb or a noun. As an example, consider the following:\n",
        "\n",
        "phrase = 'I am meeting him tomorrow at the meeting'\n",
        "for word in phrase.split():\n",
        "    print(word+' --> '+p_stemmer.stem(word))"
      ],
      "execution_count": 15,
      "outputs": [
        {
          "output_type": "stream",
          "name": "stdout",
          "text": [
            "I --> i\n",
            "am --> am\n",
            "meeting --> meet\n",
            "him --> him\n",
            "tomorrow --> tomorrow\n",
            "at --> at\n",
            "the --> the\n",
            "meeting --> meet\n"
          ]
        }
      ]
    },
    {
      "cell_type": "code",
      "metadata": {
        "id": "euP5mgGRLzMP"
      },
      "source": [
        "# Perform standard imports:\n",
        "import spacy\n",
        "nlp = spacy.load('en_core_web_sm')"
      ],
      "execution_count": 16,
      "outputs": []
    },
    {
      "cell_type": "code",
      "metadata": {
        "id": "u38F6ATiL3Np",
        "colab": {
          "base_uri": "https://localhost:8080/"
        },
        "outputId": "654f2fe3-8472-438f-adcb-7fa0bf37958b"
      },
      "source": [
        "var1 = nlp(u\"John Adam is one the researcher who invent the direction of way towards success!\")\n",
        "\n",
        "for token in var1:\n",
        "    print(token.text, '\\t', token.pos_, '\\t', token.lemma, '\\t', token.lemma_)"
      ],
      "execution_count": 17,
      "outputs": [
        {
          "output_type": "stream",
          "name": "stdout",
          "text": [
            "John \t PROPN \t 11174346320140919546 \t John\n",
            "Adam \t PROPN \t 14264057329400597350 \t Adam\n",
            "is \t AUX \t 10382539506755952630 \t be\n",
            "one \t NUM \t 17454115351911680600 \t one\n",
            "the \t DET \t 7425985699627899538 \t the\n",
            "researcher \t NOUN \t 1317581537614213870 \t researcher\n",
            "who \t PRON \t 3876862883474502309 \t who\n",
            "invent \t VERB \t 5373681334090504585 \t invent\n",
            "the \t DET \t 7425985699627899538 \t the\n",
            "direction \t NOUN \t 895834437038626927 \t direction\n",
            "of \t ADP \t 886050111519832510 \t of\n",
            "way \t NOUN \t 6878210874361030284 \t way\n",
            "towards \t ADP \t 9315050841437086371 \t towards\n",
            "success \t NOUN \t 16089821935113899987 \t success\n",
            "! \t PUNCT \t 17494803046312582752 \t !\n"
          ]
        }
      ]
    },
    {
      "cell_type": "code",
      "metadata": {
        "id": "15GTnATmL4h3"
      },
      "source": [
        "def show_lemmas(text):\n",
        "    for token in text:\n",
        "        print(f'{token.text:{12}} {token.pos_:{6}} {token.lemma:<{22}} {token.lemma_}')"
      ],
      "execution_count": 18,
      "outputs": []
    },
    {
      "cell_type": "code",
      "metadata": {
        "id": "kcR_PwbVL61X",
        "colab": {
          "base_uri": "https://localhost:8080/"
        },
        "outputId": "cdabf157-6f7f-441f-f641-124942ea615b"
      },
      "source": [
        "var2 = nlp(u\"John Adam is one the researcher who invent the direction of way towards success!\")\n",
        "show_lemmas(var2)"
      ],
      "execution_count": 19,
      "outputs": [
        {
          "output_type": "stream",
          "name": "stdout",
          "text": [
            "John         PROPN  11174346320140919546   John\n",
            "Adam         PROPN  14264057329400597350   Adam\n",
            "is           AUX    10382539506755952630   be\n",
            "one          NUM    17454115351911680600   one\n",
            "the          DET    7425985699627899538    the\n",
            "researcher   NOUN   1317581537614213870    researcher\n",
            "who          PRON   3876862883474502309    who\n",
            "invent       VERB   5373681334090504585    invent\n",
            "the          DET    7425985699627899538    the\n",
            "direction    NOUN   895834437038626927     direction\n",
            "of           ADP    886050111519832510     of\n",
            "way          NOUN   6878210874361030284    way\n",
            "towards      ADP    9315050841437086371    towards\n",
            "success      NOUN   16089821935113899987   success\n",
            "!            PUNCT  17494803046312582752   !\n"
          ]
        }
      ]
    },
    {
      "cell_type": "code",
      "metadata": {
        "id": "u9HofN4pL8S3",
        "colab": {
          "base_uri": "https://localhost:8080/"
        },
        "outputId": "0275d035-62be-4438-cddf-027d7b817100"
      },
      "source": [
        "var3 = nlp(u\"I am meeting him tomorrow at the meeting.\")\n",
        "show_lemmas(var3)"
      ],
      "execution_count": 20,
      "outputs": [
        {
          "output_type": "stream",
          "name": "stdout",
          "text": [
            "I            PRON   4690420944186131903    I\n",
            "am           AUX    10382539506755952630   be\n",
            "meeting      VERB   6880656908171229526    meet\n",
            "him          PRON   1655312771067108281    he\n",
            "tomorrow     NOUN   3573583789758258062    tomorrow\n",
            "at           ADP    11667289587015813222   at\n",
            "the          DET    7425985699627899538    the\n",
            "meeting      NOUN   14798207169164081740   meeting\n",
            ".            PUNCT  12646065887601541794   .\n"
          ]
        }
      ]
    },
    {
      "cell_type": "code",
      "metadata": {
        "id": "62Rj1pk3L-MH",
        "colab": {
          "base_uri": "https://localhost:8080/"
        },
        "outputId": "223a62f9-5984-4f5f-d471-40be93358bea"
      },
      "source": [
        "var4 = nlp(u\"That's of the greate person in the world\")\n",
        "show_lemmas(var4)"
      ],
      "execution_count": 21,
      "outputs": [
        {
          "output_type": "stream",
          "name": "stdout",
          "text": [
            "That         PRON   4380130941430378203    that\n",
            "'s           AUX    10382539506755952630   be\n",
            "of           ADP    886050111519832510     of\n",
            "the          DET    7425985699627899538    the\n",
            "greate       ADJ    4429768169814447593    greate\n",
            "person       NOUN   14800503047316267216   person\n",
            "in           ADP    3002984154512732771    in\n",
            "the          DET    7425985699627899538    the\n",
            "world        NOUN   1703489418272052182    world\n"
          ]
        }
      ]
    },
    {
      "cell_type": "code",
      "metadata": {
        "id": "UGGTGXLfMtcu"
      },
      "source": [],
      "execution_count": null,
      "outputs": []
    }
  ]
}