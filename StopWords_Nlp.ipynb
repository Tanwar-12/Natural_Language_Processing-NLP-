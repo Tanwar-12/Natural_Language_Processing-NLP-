{
  "nbformat": 4,
  "nbformat_minor": 0,
  "metadata": {
    "kernelspec": {
      "display_name": "Python 3",
      "language": "python",
      "name": "python3"
    },
    "language_info": {
      "codemirror_mode": {
        "name": "ipython",
        "version": 3
      },
      "file_extension": ".py",
      "mimetype": "text/x-python",
      "name": "python",
      "nbconvert_exporter": "python",
      "pygments_lexer": "ipython3",
      "version": "3.6.7"
    },
    "colab": {
      "provenance": []
    }
  },
  "cells": [
    {
      "cell_type": "markdown",
      "metadata": {
        "id": "S5v33WyRCR2S"
      },
      "source": [
        "# Stop Words\n",
        "Stop words are those words that do not contribute to the deeper meaning of the phrase. They are the most common words such as: the, a, and is. For some applications like documentation classification, it may make sense to remove stop words. NLTK provides a list of commonly agreed upon stop words for a variety of languages, such as English.."
      ]
    },
    {
      "cell_type": "code",
      "metadata": {
        "id": "M1ehwqoXCR2T"
      },
      "source": [
        "# Perform standard imports:\n",
        "import spacy\n",
        "nlp = spacy.load('en_core_web_sm')"
      ],
      "execution_count": 1,
      "outputs": []
    },
    {
      "cell_type": "code",
      "metadata": {
        "id": "0PZAtJwgCVNo",
        "colab": {
          "base_uri": "https://localhost:8080/"
        },
        "outputId": "d7ce9fb5-a367-4429-c52a-7328089fb2e9"
      },
      "source": [
        "import nltk\n",
        "nltk.download('stopwords')"
      ],
      "execution_count": 2,
      "outputs": [
        {
          "output_type": "stream",
          "name": "stderr",
          "text": [
            "[nltk_data] Downloading package stopwords to /root/nltk_data...\n",
            "[nltk_data]   Unzipping corpora/stopwords.zip.\n"
          ]
        },
        {
          "output_type": "execute_result",
          "data": {
            "text/plain": [
              "True"
            ]
          },
          "metadata": {},
          "execution_count": 2
        }
      ]
    },
    {
      "cell_type": "code",
      "metadata": {
        "id": "O3drpJkBCR2Z",
        "colab": {
          "base_uri": "https://localhost:8080/"
        },
        "outputId": "7383062a-2e20-4b34-c45a-676b3eba7191"
      },
      "source": [
        "# Print the set of spaCy's default stop words (remember that sets are unordered):\n",
        "print(nlp.Defaults.stop_words)"
      ],
      "execution_count": 3,
      "outputs": [
        {
          "output_type": "stream",
          "name": "stdout",
          "text": [
            "{'because', 'than', 'their', 'whereby', 'whereupon', 'me', '‘re', 'thereby', 'below', 'where', 'see', 'unless', 'several', 'down', 'mine', 'therefore', 'some', 'though', 'only', 'and', 'still', 'every', 'wherever', 'show', 'everywhere', 'except', '’d', '‘d', 'my', 'whence', 'her', 'any', 'move', 'had', \"'d\", 'they', 'empty', 'too', 'why', 'both', 're', 'nobody', 'hundred', 'also', 'the', 'anyhow', 'myself', 'made', 'one', 'themselves', 'nevertheless', 'himself', 'although', 'became', 'keep', 'them', 'until', 'make', 'third', 'seemed', 'former', 'afterwards', 'since', 'meanwhile', 'across', 'whereafter', 'during', 'n‘t', 'are', 'often', 'towards', 'least', 'wherein', 'latter', 'whose', 'did', 'sixty', '’re', 'whoever', 'is', 'alone', 'twenty', 'last', 'side', 'less', 'from', 'cannot', \"'s\", 'am', 'anywhere', 'not', 'per', 'that', 'thru', 'full', 'nine', 'would', 'once', 'amount', 'an', 'throughout', 'your', 'he', 'this', 'without', 'beyond', 'elsewhere', 'noone', 'due', 'onto', '’ve', 'into', 'same', 'various', 'for', 'perhaps', 'anyway', 'yourselves', 'over', 'none', 'ourselves', 'under', 'must', 'at', 'forty', 'was', 'him', 'in', 'moreover', 'ca', 'using', 'ten', 'here', 'fifty', 'become', 'do', 'go', 'have', 'she', 'another', 'five', \"'ll\", 'above', 'to', 'itself', 'of', 'six', 'being', 'even', 'herself', 'besides', 'so', 'call', 'mostly', 'hereupon', 'used', 'yours', 'off', 'whither', 'others', 'whole', 'has', 'part', 'namely', 'neither', 'these', 'most', 'three', 'something', '‘ll', 'becoming', 'up', 'you', 'get', 'somewhere', 'well', 'between', 'around', 'someone', 'whenever', 'if', 'otherwise', 'take', 'eight', 'seeming', \"'re\", 'we', 'top', 'anything', 'should', 'herein', 'more', 'a', 'while', 'formerly', 'were', 'whereas', 'amongst', 'rather', 'toward', 'seems', 'back', 'done', 'either', 'really', 'yourself', 'us', \"'ve\", 'along', 'behind', 'many', 'doing', 'before', 'whatever', 'serious', 'through', 'its', 'therein', 'somehow', 'his', 'enough', 'never', 'twelve', 'however', '’ll', 'latterly', 'how', 'else', 'everyone', 'almost', 'thus', 'whom', 'hence', 'yet', 'our', 'much', 'when', 'just', 'say', 'against', '’s', 'please', 'upon', 'it', 'four', 'will', 'always', 'there', 'together', 'hers', 'by', 'nothing', 'first', 'now', 'ours', 'hereafter', 'via', '‘ve', 'those', 'few', 'name', 'thence', 'own', 'about', 'seem', 'quite', 'but', 'does', 'other', 'each', 'on', 'thereafter', 'been', 'very', 'can', 'what', 'could', 'then', 'becomes', '’m', \"n't\", 'put', 'indeed', 'might', 'fifteen', 'ever', 'or', 'i', 'give', 'everything', 'all', 'already', '‘s', \"'m\", 'out', 'again', 'hereby', 'who', 'further', 'such', 'anyone', 'nor', 'be', '‘m', 'two', 'beforehand', 'whether', 'with', 'sometimes', 'may', 'which', 'within', 'eleven', 'among', 'n’t', 'beside', 'nowhere', 'sometime', 'next', 'no', 'front', 'bottom', 'thereupon', 'after', 'as', 'regarding'}\n"
          ]
        }
      ]
    },
    {
      "cell_type": "code",
      "metadata": {
        "id": "diWTTaRICR2g",
        "colab": {
          "base_uri": "https://localhost:8080/"
        },
        "outputId": "7c007215-dee1-4936-9a0c-7f7f4f2a86a0"
      },
      "source": [
        "len(nlp.Defaults.stop_words)"
      ],
      "execution_count": 4,
      "outputs": [
        {
          "output_type": "execute_result",
          "data": {
            "text/plain": [
              "326"
            ]
          },
          "metadata": {},
          "execution_count": 4
        }
      ]
    },
    {
      "cell_type": "markdown",
      "metadata": {
        "id": "tWu19KsbCR2k"
      },
      "source": [
        "## To see if a word is a stop word"
      ]
    },
    {
      "cell_type": "code",
      "metadata": {
        "id": "Sxj_JjAdCR2k",
        "colab": {
          "base_uri": "https://localhost:8080/"
        },
        "outputId": "60db7a4c-1ff1-451d-d01f-886aa1091102"
      },
      "source": [
        "nlp.vocab['myself'].is_stop"
      ],
      "execution_count": 5,
      "outputs": [
        {
          "output_type": "execute_result",
          "data": {
            "text/plain": [
              "True"
            ]
          },
          "metadata": {},
          "execution_count": 5
        }
      ]
    },
    {
      "cell_type": "code",
      "metadata": {
        "id": "Ep_V7bnOCR2o",
        "colab": {
          "base_uri": "https://localhost:8080/"
        },
        "outputId": "3b794d69-ad9c-4167-a9a1-dd7ba7638881"
      },
      "source": [
        "nlp.vocab['mystery'].is_stop"
      ],
      "execution_count": 6,
      "outputs": [
        {
          "output_type": "execute_result",
          "data": {
            "text/plain": [
              "False"
            ]
          },
          "metadata": {},
          "execution_count": 6
        }
      ]
    },
    {
      "cell_type": "code",
      "metadata": {
        "id": "U1vIs64dCR2t"
      },
      "source": [
        "# Add the word to the set of stop words. Use lowercase!\n",
        "nlp.Defaults.stop_words.add('mystery')"
      ],
      "execution_count": 7,
      "outputs": []
    },
    {
      "cell_type": "code",
      "metadata": {
        "id": "SQnVv6JEiqHC"
      },
      "source": [
        "# Set the stop_word tag on the lexeme\n",
        "nlp.vocab['mystery'].is_stop = True"
      ],
      "execution_count": 8,
      "outputs": []
    },
    {
      "cell_type": "code",
      "metadata": {
        "id": "IO-WF_1mCR2x",
        "colab": {
          "base_uri": "https://localhost:8080/"
        },
        "outputId": "a7f1b256-8b7a-4d79-8692-1360d500fccf"
      },
      "source": [
        "len(nlp.Defaults.stop_words)"
      ],
      "execution_count": 9,
      "outputs": [
        {
          "output_type": "execute_result",
          "data": {
            "text/plain": [
              "327"
            ]
          },
          "metadata": {},
          "execution_count": 9
        }
      ]
    },
    {
      "cell_type": "code",
      "metadata": {
        "id": "oMMCzOUACR21",
        "colab": {
          "base_uri": "https://localhost:8080/"
        },
        "outputId": "9dc0ad0f-d7e8-46cb-e05a-1807ec018f8b"
      },
      "source": [
        "nlp.vocab['mystery'].is_stop"
      ],
      "execution_count": 10,
      "outputs": [
        {
          "output_type": "execute_result",
          "data": {
            "text/plain": [
              "True"
            ]
          },
          "metadata": {},
          "execution_count": 10
        }
      ]
    },
    {
      "cell_type": "markdown",
      "metadata": {
        "id": "p58rPB42CR24"
      },
      "source": [
        "## To remove a stop word\n",
        "Alternatively, you may decide that `'beyond'` should not be considered a stop word."
      ]
    },
    {
      "cell_type": "code",
      "metadata": {
        "id": "0KEtYBNRCR25"
      },
      "source": [
        "# Remove the word from the set of stop words\n",
        "nlp.Defaults.stop_words.remove('beyond')\n",
        "\n",
        "# Remove the stop_word tag from the lexeme\n",
        "nlp.vocab['beyond'].is_stop = False"
      ],
      "execution_count": 11,
      "outputs": []
    },
    {
      "cell_type": "code",
      "metadata": {
        "id": "iQr5IK3CCR28",
        "colab": {
          "base_uri": "https://localhost:8080/"
        },
        "outputId": "0e39682e-57cd-4f60-b6b4-18599ebac431"
      },
      "source": [
        "len(nlp.Defaults.stop_words)"
      ],
      "execution_count": 12,
      "outputs": [
        {
          "output_type": "execute_result",
          "data": {
            "text/plain": [
              "326"
            ]
          },
          "metadata": {},
          "execution_count": 12
        }
      ]
    },
    {
      "cell_type": "code",
      "metadata": {
        "id": "ZLnWlnDQCR2_",
        "colab": {
          "base_uri": "https://localhost:8080/"
        },
        "outputId": "4e0220d5-b5e2-4074-924b-2c7d257f0103"
      },
      "source": [
        "nlp.vocab['beyond'].is_stop"
      ],
      "execution_count": 13,
      "outputs": [
        {
          "output_type": "execute_result",
          "data": {
            "text/plain": [
              "False"
            ]
          },
          "metadata": {},
          "execution_count": 13
        }
      ]
    },
    {
      "cell_type": "code",
      "metadata": {
        "id": "TCyp1UmXCxgJ",
        "colab": {
          "base_uri": "https://localhost:8080/"
        },
        "outputId": "afe887a3-4167-497c-d3de-1a2698a3e330"
      },
      "source": [
        "import string\n",
        "import re\n",
        "import nltk\n",
        "nltk.download('punkt')\n",
        "from nltk import word_tokenize,sent_tokenize\n",
        "from nltk.corpus import stopwords\n",
        "# load data\n",
        "text = 'The Quick brown fox jump over the lazy dog!'"
      ],
      "execution_count": 14,
      "outputs": [
        {
          "output_type": "stream",
          "name": "stderr",
          "text": [
            "[nltk_data] Downloading package punkt to /root/nltk_data...\n",
            "[nltk_data]   Unzipping tokenizers/punkt.zip.\n"
          ]
        }
      ]
    },
    {
      "cell_type": "code",
      "metadata": {
        "id": "pehkONOeDPd-",
        "colab": {
          "base_uri": "https://localhost:8080/"
        },
        "outputId": "a11ded3b-f8f8-4074-9532-1df9cb08ce44"
      },
      "source": [
        "# split into words\n",
        "tokens = word_tokenize(text)\n",
        "print(tokens)"
      ],
      "execution_count": 15,
      "outputs": [
        {
          "output_type": "stream",
          "name": "stdout",
          "text": [
            "['The', 'Quick', 'brown', 'fox', 'jump', 'over', 'the', 'lazy', 'dog', '!']\n"
          ]
        }
      ]
    },
    {
      "cell_type": "code",
      "metadata": {
        "id": "K0zTYJKID--l",
        "colab": {
          "base_uri": "https://localhost:8080/"
        },
        "outputId": "388e8609-0c85-451d-bca5-cda039d79ad1"
      },
      "source": [
        "# convert to lower case\n",
        "tokens = [w.lower() for w in tokens]\n",
        "print(tokens)"
      ],
      "execution_count": 16,
      "outputs": [
        {
          "output_type": "stream",
          "name": "stdout",
          "text": [
            "['the', 'quick', 'brown', 'fox', 'jump', 'over', 'the', 'lazy', 'dog', '!']\n"
          ]
        }
      ]
    },
    {
      "cell_type": "code",
      "metadata": {
        "id": "PXAJpO5hEEcj",
        "colab": {
          "base_uri": "https://localhost:8080/"
        },
        "outputId": "467ab3b8-44d4-422f-cf4a-bcd3e2beb3fb"
      },
      "source": [
        "# prepare regex for char filtering\n",
        "re_punc = re.compile('[%s]' % re.escape(string.punctuation))\n",
        "print(re_punc)"
      ],
      "execution_count": 17,
      "outputs": [
        {
          "output_type": "stream",
          "name": "stdout",
          "text": [
            "re.compile('[!\"\\\\#\\\\$%\\\\&\\'\\\\(\\\\)\\\\*\\\\+,\\\\-\\\\./:;<=>\\\\?@\\\\[\\\\\\\\\\\\]\\\\^_`\\\\{\\\\|\\\\}\\\\~]')\n"
          ]
        }
      ]
    },
    {
      "cell_type": "code",
      "metadata": {
        "id": "IRupmyA-EF7z",
        "colab": {
          "base_uri": "https://localhost:8080/"
        },
        "outputId": "9014483d-87ec-40ab-b360-55697d1160ed"
      },
      "source": [
        "# remove punctuation from each word\n",
        "stripped = [re_punc.sub('', w) for w in tokens]\n",
        "print(stripped)"
      ],
      "execution_count": 18,
      "outputs": [
        {
          "output_type": "stream",
          "name": "stdout",
          "text": [
            "['the', 'quick', 'brown', 'fox', 'jump', 'over', 'the', 'lazy', 'dog', '']\n"
          ]
        }
      ]
    },
    {
      "cell_type": "code",
      "metadata": {
        "id": "c0__AkhWEHPT",
        "colab": {
          "base_uri": "https://localhost:8080/"
        },
        "outputId": "a2a2f0dd-a37f-4004-bb9d-3c6716d5d47e"
      },
      "source": [
        "# remove remaining tokens that are not alphabetic\n",
        "words = [word for word in stripped if word.isalpha()]\n",
        "print(words)"
      ],
      "execution_count": 19,
      "outputs": [
        {
          "output_type": "stream",
          "name": "stdout",
          "text": [
            "['the', 'quick', 'brown', 'fox', 'jump', 'over', 'the', 'lazy', 'dog']\n"
          ]
        }
      ]
    },
    {
      "cell_type": "code",
      "metadata": {
        "id": "6WYqyINsEIhD",
        "colab": {
          "base_uri": "https://localhost:8080/"
        },
        "outputId": "73f6a511-274d-4aa0-a736-80d52ef4538d"
      },
      "source": [
        "# filter out non-stop words\n",
        "stop_words = set(stopwords.words('english'))\n",
        "words = [w for w in words if not w in stop_words]\n",
        "print(words)"
      ],
      "execution_count": 20,
      "outputs": [
        {
          "output_type": "stream",
          "name": "stdout",
          "text": [
            "['quick', 'brown', 'fox', 'jump', 'lazy', 'dog']\n"
          ]
        }
      ]
    },
    {
      "cell_type": "code",
      "metadata": {
        "id": "2DdtvLMggo4P",
        "colab": {
          "base_uri": "https://localhost:8080/"
        },
        "outputId": "f106b5e2-2540-44da-fa82-3b54b9239de1"
      },
      "source": [
        "nlp.vocab['dog'].is_stop"
      ],
      "execution_count": 21,
      "outputs": [
        {
          "output_type": "execute_result",
          "data": {
            "text/plain": [
              "False"
            ]
          },
          "metadata": {},
          "execution_count": 21
        }
      ]
    }
  ]
}